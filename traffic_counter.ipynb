{
  "nbformat": 4,
  "nbformat_minor": 0,
  "metadata": {
    "colab": {
      "name": "traffic_counter.ipynb",
      "provenance": [],
      "authorship_tag": "ABX9TyOLf7M6AiA2uPmyF+AI1s7N",
      "include_colab_link": true
    },
    "kernelspec": {
      "name": "python3",
      "display_name": "Python 3"
    }
  },
  "cells": [
    {
      "cell_type": "markdown",
      "metadata": {
        "id": "view-in-github",
        "colab_type": "text"
      },
      "source": [
        "<a href=\"https://colab.research.google.com/github/shinri-sone/traffic_counter/blob/master/traffic_counter.ipynb\" target=\"_parent\"><img src=\"https://colab.research.google.com/assets/colab-badge.svg\" alt=\"Open In Colab\"/></a>"
      ]
    },
    {
      "cell_type": "markdown",
      "metadata": {
        "id": "JEZLeV65Iajq",
        "colab_type": "text"
      },
      "source": [
        "#トラフィックカウンターを作成しましょう。\n",
        "\n",
        "*   importは、メモリ上にハードディスクの情報をアップロードする機能です。\n",
        "*  Tensorflowとは、機械学習を行うためのモジュールです。\n",
        "*  OpenCvとは画像処理を行うためのモジュールです。\n",
        "\n"
      ]
    },
    {
      "cell_type": "code",
      "metadata": {
        "id": "1lGZh2foIZ5b",
        "colab_type": "code",
        "colab": {}
      },
      "source": [
        "#各種モジュールをインポートします。\n",
        "import tensorflow as tf"
      ],
      "execution_count": 0,
      "outputs": []
    }
  ]
}